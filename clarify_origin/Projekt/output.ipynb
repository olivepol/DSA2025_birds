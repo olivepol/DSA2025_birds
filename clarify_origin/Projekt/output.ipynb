Erste Zeilen des DataFrames:
     guid           nummer                                           name  \
0  604369          FK3.840  Bodypercussion -  der rhythmische Körperklang   
1  610723  FK4.D-ik-179-5a                                   Deutsch B1.1   
2  656403   SZ810-29-04-01                 Deutsch Integrationskurs A1.1    
3  658796   Mi404-B192S-13                      Deutsch Orientierungskurs   
4  683442       Sp4.224.W9                    Deutsch Alphabetisierung W9   

                                  untertitel                    bezirk  \
0                                       None  Friedrichshain-Kreuzberg   
1                              Aufbaumodul 5  Friedrichshain-Kreuzberg   
2                    Basissprachkurs Modul 1       Steglitz-Zehlendorf   
3                                       None                     Mitte   
4  Deutsch Alphabetisierung-Integrationskurs                   Spandau   

                          dvv_kategorie veranstaltungsart  \
0  {'@version': '2.0', '#text': '3.00'}              Kurs   
1  {'@version': '2.0', '#text': '4.04'}              Kurs   
2  {'@version': '2.0', '#text': '4.04'}              Kurs   
3  {'@version': '2.0', '#text': '4.04'}              Kurs   
4  {'@version': '2.0', '#text': '4.04'}              Kurs   

  minimale_teilnehmerzahl aktuelle_teilnehmerzahl maximale_teilnehmerzahl  \
0                       8                       0                      10   
1                      12                       1                      20   
2                       8                       6                      12   
3                       8                       5                      16   
4                      10                       1                      16   

   ...                          zielgruppe  \
0  ...                                None   
1  ...  Menschen mit Migrationshintergrund   
2  ...  Menschen mit Migrationshintergrund   
3  ...  Menschen mit Migrationshintergrund   
4  ...  Menschen mit Migrationshintergrund   

                                          schlagwort  \
0  [Fragen auf Englisch, GESUNDHEIT, KULTUR, MUSI...   
1  [B1, BAMF Kursbeginn übermittelt, BAMF Kurspla...   
2  [A1, BAMF Kursbeginn übermittelt, BAMF Kurspla...   
3  [BAMF Kursbeginn übermittelt, BAMF Kursplanung...   
4  [A1, A2, Alphabetisierung, BAMF Kursbeginn übe...   

                                                text  \
0  [{'eigenschaft': 'Beschreibung', 'text': 'Body...   
1  [{'eigenschaft': 'Beschreibung', 'text': 'Vora...   
2  [{'eigenschaft': 'Beschreibung', 'text': 'Der ...   
3  [{'eigenschaft': 'Beschreibung', 'text': 'Dies...   
4  [{'eigenschaft': 'Beschreibung', 'text': 'Dies...   

                                           anmeldung  \
0  {'telefon': '90298-4600', 'mail': 'vhs@ba-fk.b...   
1  {'telefon': '90298-4600', 'mail': 'vhs@ba-fk.b...   
2  {'telefon': '(030) 90299 6156', 'mail': 'vhs-s...   
3  {'telefon': '9018 37474', 'mail': 'Infoservice...   
4  {'telefon': '90279 5000', 'mail': 'info@vhs-sp...   

                                      ansprechperson  \
0  {'anrede': 'Frau', 'titel': None, 'name': 'Hie...   
1  {'anrede': 'Frau', 'titel': None, 'name': 'Gru...   
2  {'anrede': 'Frau', 'titel': 'Dr.', 'name': 'Sc...   
3  {'anrede': 'Frau', 'titel': None, 'name': 'Mar...   
4  {'anrede': 'Frau', 'titel': None, 'name': 'Oem...   

                                         ortetermine  \
0  {'adresse': [{'lehrstaette': 'VHS', 'plz': '10...   
1  {'adresse': [{'lehrstaette': 'VHS', 'plz': '10...   
2  {'adresse': [{'lehrstaette': 'VHS', 'plz': '14...   
3  {'adresse': [{'lehrstaette': 'VHS Berlin Mitte...   
4  {'adresse': [{'lehrstaette': 'VHS-Filiale Eisw...   

                                               preis  \
0  {'betrag': '31.00', 'rabatt_moeglich': 'true',...   
1  {'betrag': '235.00', 'rabatt_moeglich': 'false...   
2  {'betrag': '235.00', 'rabatt_moeglich': 'false...   
3  {'betrag': '235.00', 'rabatt_moeglich': 'false...   
4  {'betrag': '464.00', 'rabatt_moeglich': 'false...   

                                              dozent  \
0  {'anrede': 'Frau', 'titel': None, 'name': 'Ric...   
1  {'anrede': 'Frau', 'titel': None, 'name': 'Ste...   
2  [{'anrede': 'Frau', 'titel': None, 'name': 'Is...   
3  {'anrede': 'Herr', 'titel': None, 'name': 'Luh...   
4  {'anrede': 'Frau', 'titel': None, 'name': 'Sho...   

                                          webadresse merkmale  
0  {'typ': 'website', 'name': 'zur Kursbuchung', ...      NaN  
1  {'typ': 'website', 'name': 'zur Kursbuchung', ...      NaN  
2  {'typ': 'website', 'name': 'zur Kursbuchung', ...      NaN  
3  {'typ': 'website', 'name': 'zur Kursbuchung', ...      NaN  
4  {'typ': 'website', 'name': 'zur Kursbuchung', ...      NaN  

[5 rows x 23 columns]

DataFrame Form (Zeilen, Spalten): (8407, 23)
Spaltennamen: ['guid', 'nummer', 'name', 'untertitel', 'bezirk', 'dvv_kategorie', 'veranstaltungsart', 'minimale_teilnehmerzahl', 'aktuelle_teilnehmerzahl', 'maximale_teilnehmerzahl', 'anzahl_termine', 'beginn_datum', 'ende_datum', 'zielgruppe', 'schlagwort', 'text', 'anmeldung', 'ansprechperson', 'ortetermine', 'preis', 'dozent', 'webadresse', 'merkmale']

Informationen zu Datentypen und fehlenden Werten:
<class 'pandas.core.frame.DataFrame'>
RangeIndex: 8407 entries, 0 to 8406
Data columns (total 23 columns):
 #   Column                   Non-Null Count  Dtype 
---  ------                   --------------  ----- 
 0   guid                     8407 non-null   object
 1   nummer                   8407 non-null   object
 2   name                     8407 non-null   object
 3   untertitel               4460 non-null   object
 4   bezirk                   8407 non-null   object
 5   dvv_kategorie            8407 non-null   object
 6   veranstaltungsart        8384 non-null   object
 7   minimale_teilnehmerzahl  8407 non-null   object
 8   aktuelle_teilnehmerzahl  8407 non-null   object
 9   maximale_teilnehmerzahl  8407 non-null   object
 10  anzahl_termine           8407 non-null   object
 11  beginn_datum             8407 non-null   object
 12  ende_datum               8407 non-null   object
 13  zielgruppe               2006 non-null   object
 14  schlagwort               8402 non-null   object
 15  text                     8407 non-null   object
 16  anmeldung                8407 non-null   object
 17  ansprechperson           8398 non-null   object
 18  ortetermine              8354 non-null   object
 19  preis                    8407 non-null   object
 20  dozent                   8343 non-null   object
 21  webadresse               8407 non-null   object
 22  merkmale                 1193 non-null   object
dtypes: object(23)
memory usage: 1.5+ MB
None

Statistische Übersicht:
          guid        nummer     name  \
count     8407          8407     8407   
unique    8407          8399     6425   
top     759332  MH2.10-002-F  Pilates   
freq         1             3       50   

                                         untertitel                bezirk  \
count                                          4460                  8407   
unique                                         1926                    13   
top     - als Bildungszeitveranstaltung anerkannt -  Tempelhof-Schöneberg   
freq                                            132                  1041   

                               dvv_kategorie veranstaltungsart  \
count                                   8407              8384   
unique                                    76                10   
top     {'@version': '2.0', '#text': '4.04'}              Kurs   
freq                                    1392              7182   

       minimale_teilnehmerzahl aktuelle_teilnehmerzahl  \
count                     8407                    8407   
unique                      18                      53   
top                          6                       0   
freq                      4483                    1246   

       maximale_teilnehmerzahl  ...                          zielgruppe  \
count                     8407  ...                                2006   
unique                      34  ...                                  12   
top                         12  ...  Menschen mit Migrationshintergrund   
freq                      1935  ...                                1315   

                                          schlagwort  \
count                                           8402   
unique                                          4827   
top     [ERNÄHRUNG, GESUNDHEIT, Kochen, Präsenzkurs]   
freq                                              46   

                                                     text  \
count                                                8407   
unique                                               7031   
top     [{'eigenschaft': 'Beschreibung', 'text': 'Dies...   
freq                                                   66   

                                                anmeldung  \
count                                                8407   
unique                                                 14   
top     {'telefon': '(030) 902 77-30 00', 'mail': 'vhs...   
freq                                                 1041   

                                           ansprechperson  \
count                                                8398   
unique                                                 83   
top     {'anrede': 'Frau', 'titel': None, 'name': 'Alt...   
freq                                                  323   

                                              ortetermine  \
count                                                8354   
unique                                               8247   
top     {'adresse': {'lehrstaette': 'VHS Lernzentrum',...   
freq                                                   62   

                                                    preis  \
count                                                8407   
unique                                               2026   
top     {'betrag': '0.00', 'rabatt_moeglich': 'false',...   
freq                                                  461   

                                                   dozent  \
count                                                8343   
unique                                               2478   
top     {'anrede': 'Frau', 'titel': 'Dr.', 'name': 'Li...   
freq                                                   35   

                                               webadresse  \
count                                                8407   
unique                                               8407   
top     {'typ': 'website', 'name': 'zur Kursbuchung', ...   
freq                                                    1   

                                                 merkmale  
count                                                1193  
unique                                                  2  
top     {'merkmal': {'name': 'kursart_digital', 'wert'...  
freq                                                 1164  

[4 rows x 23 columns]

Fehlende Werte pro Spalte:
guid                          0
nummer                        0
name                          0
untertitel                 3947
bezirk                        0
dvv_kategorie                 0
veranstaltungsart            23
minimale_teilnehmerzahl       0
aktuelle_teilnehmerzahl       0
maximale_teilnehmerzahl       0
anzahl_termine                0
beginn_datum                  0
ende_datum                    0
zielgruppe                 6401
schlagwort                    5
text                          0
anmeldung                     0
ansprechperson                9
ortetermine                  53
preis                         0
dozent                       64
webadresse                    0
merkmale                   7214
dtype: int64
