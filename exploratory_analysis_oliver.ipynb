{
 "cells": [
  {
   "cell_type": "code",
   "execution_count": 3,
   "metadata": {},
   "outputs": [],
   "source": [
    "#import json file with the data\n",
    "import json\n",
    "import pandas as pd\n",
    "import numpy as np\n",
    "import matplotlib.pyplot as plt\n",
    "\n",
    "# Load the data\n",
    "with open('web-app/backend/data/courses.json', encoding=\"utf-8\") as f:\n",
    "    data = json.load(f)"
   ]
  },
  {
   "cell_type": "code",
   "execution_count": 10,
   "metadata": {},
   "outputs": [
    {
     "name": "stdout",
     "output_type": "stream",
     "text": [
      "Type of data: <class 'dict'>\n",
      "Keys: dict_keys(['veranstaltungen'])\n",
      "Bodypercussion -  der rhythmische Körperklang\n",
      "2025-03-29\n"
     ]
    }
   ],
   "source": [
    "# Print the type of the data\n",
    "print(f\"Type of data: {type(data)}\")\n",
    "\n",
    "# print the keys\n",
    "print(f\"Keys: {data.keys()}\")\n",
    "\n",
    "# Get the list of events\n",
    "veranstaltungen = data[\"veranstaltungen\"]\n",
    "veranstaltung_list = veranstaltungen[\"veranstaltung\"]\n",
    "\n",
    "# Loop through each event in the list\n",
    "# for event in veranstaltung_list:\n",
    "#    print(event[\"name\"])  # Print the name of each event\n",
    "#    print(event[\"bezirk\"])  # Print the district (bezirk) of each event\n",
    "\n",
    "# Get the first event in the list\n",
    "first_event = veranstaltung_list[0]  # Get the first event\n",
    "print(first_event[\"name\"])  # Print the name of the first event\n",
    "print(first_event[\"beginn_datum\"])  # Print the start date of the first event"
   ]
  },
  {
   "cell_type": "markdown",
   "metadata": {},
   "source": [
    "### filter for events"
   ]
  },
  {
   "cell_type": "code",
   "execution_count": 14,
   "metadata": {},
   "outputs": [
    {
     "name": "stdout",
     "output_type": "stream",
     "text": [
      "Number of events in Friedrichshain-Kreuzberg: 617 \n",
      "\n",
      "Bodypercussion -  der rhythmische Körperklang\n",
      "Deutsch B1.1\n",
      "Pilates Grundkurs\n",
      "Deutsch A2.2\n",
      "Yoga für die Generation 50 + und für Menschen mit Bewegungseinschränkungen\n",
      "Deutsch A2.1\n",
      "Deutsch A1.2\n",
      "Massage für Paare \n",
      "Türkisch B2 Konversation & Lektüre \n",
      "Türkisch B2 Konversation & Lektüre \n",
      "Türkisch B2 Konversation & Lektüre \n",
      "Türkisch A1.1 für Alltag und Beruf - auch als Bildungszeit \n",
      "Türkisch A1.1 für Alltag und Beruf - auch als Bildungszeit \n",
      "Türkisch A1.1 (Onlinekurs)\n",
      "Türkisch A2.2 (Blended-Learning-Kurs)\n",
      "Türkisch B1.1 (Blended-Learning-Kurs)\n",
      "Türkisch B1.3 (Onlinekurs)\n",
      "Arabisch A1.2\n",
      "Arabisch A1.3\n",
      "Kurdisch A2.2\n"
     ]
    }
   ],
   "source": [
    "# Filter events by district and print the names of all events in Friedrichshain-Kreuzberg\n",
    "filtered_events = [\n",
    "    event for event in veranstaltung_list if event[\"bezirk\"] == \"Friedrichshain-Kreuzberg\"\n",
    "]\n",
    "print(f\"Number of events in Friedrichshain-Kreuzberg: {len(filtered_events)}\", \"\\n\")\n",
    "for event in filtered_events[:20]:\n",
    "    print(event[\"name\"])"
   ]
  },
  {
   "cell_type": "markdown",
   "metadata": {},
   "source": [
    "### figure out what to analyse"
   ]
  },
  {
   "cell_type": "code",
   "execution_count": 12,
   "metadata": {},
   "outputs": [
    {
     "name": "stdout",
     "output_type": "stream",
     "text": [
      "dict_keys(['guid', 'nummer', 'name', 'untertitel', 'bezirk', 'dvv_kategorie', 'veranstaltungsart', 'minimale_teilnehmerzahl', 'aktuelle_teilnehmerzahl', 'maximale_teilnehmerzahl', 'anzahl_termine', 'beginn_datum', 'ende_datum', 'zielgruppe', 'schlagwort', 'text', 'anmeldung', 'ansprechperson', 'ortetermine', 'preis', 'dozent', 'webadresse'])\n"
     ]
    }
   ],
   "source": [
    "# print the keys\n",
    "print(veranstaltung_list[0].keys())"
   ]
  }
 ],
 "metadata": {
  "kernelspec": {
   "display_name": "DSA2025_birds_webapp",
   "language": "python",
   "name": "python3"
  },
  "language_info": {
   "codemirror_mode": {
    "name": "ipython",
    "version": 3
   },
   "file_extension": ".py",
   "mimetype": "text/x-python",
   "name": "python",
   "nbconvert_exporter": "python",
   "pygments_lexer": "ipython3",
   "version": "3.11.11"
  }
 },
 "nbformat": 4,
 "nbformat_minor": 2
}
