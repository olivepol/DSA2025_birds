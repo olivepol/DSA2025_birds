{
 "cells": [
  {
   "cell_type": "code",
   "execution_count": 6,
   "id": "f7a0ff4e",
   "metadata": {},
   "outputs": [
    {
     "name": "stdout",
     "output_type": "stream",
     "text": [
      "1\n",
      "1681\n"
     ]
    }
   ],
   "source": [
    "#import json file with the data\n",
    "import json\n",
    "import pandas as pd\n",
    "import numpy as np\n",
    "import matplotlib.pyplot as plt\n",
    "\n",
    "# Load the data\n",
    "with open('web-app/backend/data/courses.json', encoding=\"utf-8\") as f:\n",
    "    data = json.load(f)\n",
    "\n",
    "# find lenght of data\n",
    "print(len(data))\n",
    "\n",
    "# randomly drop 50% of the data\n",
    "df = pd.DataFrame(data['veranstaltungen']['veranstaltung'])\n",
    "data_sample = df.sample(frac=0.2, random_state=42)  # Sample 50% of the data\n",
    "# Convert the sampled data back to JSON format\n",
    "sampled_data_json = data_sample.to_dict(orient='records')\n",
    "\n",
    "# Update the original JSON structure with the sampled data\n",
    "data['veranstaltungen']['veranstaltung'] = sampled_data_json\n",
    "\n",
    "# find lenght of data\n",
    "print(len(sampled_data_json))\n",
    "\n",
    "# Optionally, save the sampled data back to a JSON file\n",
    "with open('web-app/backend/data/courses_sampled.json', 'w', encoding=\"utf-8\") as f_out:\n",
    "    json.dump(data, f_out, ensure_ascii=False, indent=4)\n"
   ]
  }
 ],
 "metadata": {
  "kernelspec": {
   "display_name": "DSA2025_birds_webapp",
   "language": "python",
   "name": "python3"
  },
  "language_info": {
   "codemirror_mode": {
    "name": "ipython",
    "version": 3
   },
   "file_extension": ".py",
   "mimetype": "text/x-python",
   "name": "python",
   "nbconvert_exporter": "python",
   "pygments_lexer": "ipython3",
   "version": "3.11.11"
  }
 },
 "nbformat": 4,
 "nbformat_minor": 5
}
